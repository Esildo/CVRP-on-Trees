{
 "cells": [
  {
   "cell_type": "code",
   "execution_count": null,
   "id": "e339a330",
   "metadata": {},
   "outputs": [],
   "source": [
    "\n"
   ]
  },
  {
   "cell_type": "code",
   "execution_count": null,
   "id": "1b0e0736",
   "metadata": {},
   "outputs": [],
   "source": [
    " "
   ]
  },
  {
   "cell_type": "code",
   "execution_count": 1,
   "id": "f588bd15",
   "metadata": {},
   "outputs": [],
   "source": [
    "import sys\n",
    "import io"
   ]
  },
  {
   "cell_type": "code",
   "execution_count": 2,
   "id": "4a66ea24",
   "metadata": {},
   "outputs": [],
   "source": [
    "from ortools.constraint_solver import pywrapcp"
   ]
  },
  {
   "cell_type": "code",
   "execution_count": 3,
   "id": "3a4c0271",
   "metadata": {},
   "outputs": [],
   "source": [
    "from coptpy import *\n",
    "import numpy as np\n",
    "import matplotlib.pyplot as plt\n",
    "import igraph\n",
    "import networkx as nx\n",
    "import matplotlib.pyplot as plt\n",
    "import math\n",
    "from networkx.drawing.nx_pydot import graphviz_layout\n"
   ]
  },
  {
   "cell_type": "code",
   "execution_count": 4,
   "id": "861204c9",
   "metadata": {},
   "outputs": [],
   "source": [
    "class CaptureStdout:\n",
    "    def __enter__(self):\n",
    "        self._original_stdout = sys.stdout\n",
    "        sys.stdout = self._stringio = io.StringIO()\n",
    "        return self\n",
    "\n",
    "    def __exit__(self, *args):\n",
    "        sys.stdout = self._original_stdout\n",
    "\n",
    "    def get_output(self):\n",
    "        return self._stringio.getvalue()"
   ]
  },
  {
   "cell_type": "code",
   "execution_count": 5,
   "id": "787af810",
   "metadata": {},
   "outputs": [],
   "source": [
    "rnd = np.random\n",
    "rnd.seed(0)"
   ]
  },
  {
   "cell_type": "code",
   "execution_count": 6,
   "id": "3693fff0",
   "metadata": {},
   "outputs": [
    {
     "name": "stdout",
     "output_type": "stream",
     "text": [
      "Cardinal Optimizer v6.0.5. Build date Feb  7 2023\n",
      "Copyright Cardinal Operations 2022. All Rights Reserved\n",
      "\n"
     ]
    }
   ],
   "source": [
    "env = Envr()\n",
    "model = env.createModel()"
   ]
  },
  {
   "cell_type": "code",
   "execution_count": 7,
   "id": "c4103a6d",
   "metadata": {},
   "outputs": [],
   "source": [
    "edges = [(0,1,5),(0,2,7),(1,3,2),(2,4,3)]"
   ]
  },
  {
   "cell_type": "code",
   "execution_count": 8,
   "id": "b203e2b7",
   "metadata": {},
   "outputs": [
    {
     "name": "stdout",
     "output_type": "stream",
     "text": [
      "[(0, 1), (0, 2), (1, 3), (2, 4)]\n"
     ]
    }
   ],
   "source": [
    "graph = nx.Graph()\n",
    "graph.add_weighted_edges_from(edges)\n",
    "print(graph.edges())"
   ]
  },
  {
   "cell_type": "code",
   "execution_count": 9,
   "id": "f6bfe66f",
   "metadata": {},
   "outputs": [
    {
     "data": {
      "text/plain": [
       "7"
      ]
     },
     "execution_count": 9,
     "metadata": {},
     "output_type": "execute_result"
    }
   ],
   "source": [
    "graph.edges[0,2][\"weight\"]"
   ]
  },
  {
   "cell_type": "code",
   "execution_count": 10,
   "id": "ce87cb9f",
   "metadata": {},
   "outputs": [],
   "source": [
    "p = dict(nx.shortest_path_length(graph,target = 0 , weight='weight'))"
   ]
  },
  {
   "cell_type": "code",
   "execution_count": 11,
   "id": "385848ca",
   "metadata": {},
   "outputs": [],
   "source": [
    "def create_random_tree(num_nodes, min_children=1, max_children=5, seed=0):\n",
    "    rnd = np.random.RandomState(seed)\n",
    "    tree = nx.Graph()\n",
    "    tree.add_node(0)\n",
    "\n",
    "    current_node = 0\n",
    "    node_counter = 1\n",
    "\n",
    "    nodes_to_expand = [0]\n",
    "\n",
    "    while nodes_to_expand and node_counter < num_nodes:\n",
    "        node = nodes_to_expand.pop(0)\n",
    "        num_children = rnd.randint(min_children, max_children + 1)\n",
    "        \n",
    "        for _ in range(num_children):\n",
    "            if node_counter >= num_nodes:\n",
    "                break\n",
    "\n",
    "            tree.add_edge(node, node_counter)\n",
    "            nodes_to_expand.append(node_counter)\n",
    "            node_counter += 1\n",
    "\n",
    "    return tree"
   ]
  },
  {
   "cell_type": "code",
   "execution_count": 12,
   "id": "24d3899d",
   "metadata": {},
   "outputs": [],
   "source": [
    "n = 40 #Count of nodes\n",
    "\n",
    "#xc yc\n",
    "xc = rnd.rand(n+1)*200\n",
    "yc = rnd.rand(n+1)*100\n",
    "\n",
    "#Initialize \n",
    "graph = create_random_tree(n+1)\n",
    "\n",
    "for i,j in graph.edges():\n",
    "    graph.edges[i,j][\"weight\"] =  math.ceil(np.hypot(xc[i] - xc[j],yc[i] - yc[j]))\n",
    "\n"
   ]
  },
  {
   "cell_type": "code",
   "execution_count": 13,
   "id": "851af859",
   "metadata": {},
   "outputs": [
    {
     "name": "stdout",
     "output_type": "stream",
     "text": [
      "26\n"
     ]
    }
   ],
   "source": [
    "#Input Parameters\n",
    "C = 100\n",
    "N = [i for i in range(1,n+1)]\n",
    "\n",
    "D = {i: rnd.randint(20,81) for i in N}#Demand at node i\n",
    "\n",
    "L = dict(nx.shortest_path_length(graph, weight='weight'))\n",
    "S = dict(nx.shortest_path_length(graph,target = 0 , weight='weight'))\n",
    "\n",
    "sum_dem = 0\n",
    "for i in D:\n",
    "    sum_dem +=D[i]\n",
    "V_min = math.ceil(sum_dem/C)+6\n",
    "\n",
    "\n",
    "    \n",
    "\n",
    "#Initialize weight\n",
    "\n",
    "print(V_min)"
   ]
  },
  {
   "cell_type": "code",
   "execution_count": 14,
   "id": "882d1760",
   "metadata": {},
   "outputs": [],
   "source": [
    "x = model.addVars(N, N, vtype=COPT.BINARY)\n",
    "y = model.addVars(N, N, vtype=COPT.BINARY)\n",
    "w = model.addVars(N, vtype=COPT.BINARY)\n",
    "z = model.addVars(N, vtype=COPT.BINARY)"
   ]
  },
  {
   "cell_type": "code",
   "execution_count": 15,
   "id": "269b451e",
   "metadata": {},
   "outputs": [
    {
     "data": {
      "image/png": "[encoded data removed]",
      "text/plain": [
       "<Figure size 640x480 with 1 Axes>"
      ]
     },
     "metadata": {},
     "output_type": "display_data"
    }
   ],
   "source": [
    "nx.draw(graph,with_labels=True)\n",
    "plt.show()"
   ]
  },
  {
   "cell_type": "code",
   "execution_count": 16,
   "id": "267410eb",
   "metadata": {},
   "outputs": [],
   "source": [
    "#ObjFunc\n",
    "model.setObjective(quicksum(S[i] * (w[i] + z[i]) for i in N) +\n",
    "                   quicksum(quicksum(L[i][j] * x[i, j] for j in range(i+1,n+1)) for i in range(1,n)), COPT.MINIMIZE)"
   ]
  },
  {
   "cell_type": "code",
   "execution_count": null,
   "id": "a673c185",
   "metadata": {},
   "outputs": [],
   "source": []
  },
  {
   "cell_type": "code",
   "execution_count": 17,
   "id": "559b60b6",
   "metadata": {},
   "outputs": [],
   "source": [
    "\n",
    "# Constraints\n",
    "for i in N:\n",
    "    for j in N:\n",
    "        if i < j:\n",
    "            model.addConstr(x[i, j] - y[i, j] <= 0)\n",
    "            for k in N:\n",
    "                if i < j < k:\n",
    "                    model.addConstr(y[i, j] + y[j, k] - y[i, k] <= 1)\n",
    "for j in N:\n",
    "    model.addConstr((w[j] + quicksum(x[i,j] for i in range(1,j))) == 1)\n",
    "for i in N:\n",
    "    model.addConstr((z[i] + quicksum(x[i,j] for j in range(i+1,n+1)))==1)\n",
    "    model.addConstr((D[i] + quicksum(D[j]*y[i,j] for j in range(i+1,n+1))) <= C)\n",
    "\n",
    "#Valid Inequalities    \n",
    "for i in N:\n",
    "    for j in N:\n",
    "        if i<j and (D[i] + D[j] > C ):\n",
    "            model.addConstr(y[i,j] == 0)\n",
    "            \n",
    "#for k in N:\n",
    "#    model.addConstr(quicksum(w[j]+quicksum(x[i,j] for i in range(1,k)) for j in range(k,n+1)) >= V_kmin[k])"
   ]
  },
  {
   "cell_type": "code",
   "execution_count": null,
   "id": "8c9b3d76",
   "metadata": {},
   "outputs": [],
   "source": []
  },
  {
   "cell_type": "code",
   "execution_count": 18,
   "id": "c9e82b24",
   "metadata": {},
   "outputs": [
    {
     "name": "stdout",
     "output_type": "stream",
     "text": [
      "Setting parameter 'TimeLimit' to 600\n"
     ]
    }
   ],
   "source": [
    "model.setParam(COPT.Param.TimeLimit, 600.0)"
   ]
  },
  {
   "cell_type": "code",
   "execution_count": 19,
   "id": "0e06e727",
   "metadata": {},
   "outputs": [
    {
     "name": "stdout",
     "output_type": "stream",
     "text": [
      "Model fingerprint: b02ae8f0\n",
      "\n",
      "Using Cardinal Optimizer v6.0.5 on Windows\n",
      "Hardware has 6 cores and 12 threads. Using instruction set X86_NATIVE (1)\n",
      "Minimizing a MIP problem\n",
      "\n",
      "The original problem has:\n",
      "    11158 rows, 3280 columns and 33998 non-zero elements\n",
      "    3280 binaries\n",
      "\n",
      "Presolving the problem\n",
      "\n",
      "The presolved problem has:\n",
      "    119 rows, 73 columns and 437 non-zero elements\n",
      "    73 binaries\n",
      "\n",
      "Starting the MIP solver with 12 threads and 32 tasks\n",
      "\n",
      "     Nodes    Active  LPit/n  IntInf     BestBound  BestSolution    Gap   Time\n",
      "         0         1      --       0  5.264000e+03            --    Inf  0.10s\n",
      "H        0         1      --       0  5.264000e+03  1.006000e+04  47.7%  0.10s\n",
      "H        0         1      --       0  5.264000e+03  9.980000e+03  47.3%  0.10s\n",
      "H        0         1      --       0  5.264000e+03  9.404000e+03  44.0%  0.10s\n",
      "         0         1      --      10  9.264000e+03  9.404000e+03  1.49%  0.11s\n",
      "H        0         1      --      10  9.264000e+03  9.376000e+03  1.19%  0.12s\n",
      "         0         1      --      10  9.264000e+03  9.376000e+03  1.19%  0.12s\n",
      "         0         1      --      13  9.289600e+03  9.376000e+03  0.92%  0.14s\n",
      "         0         1      --      14  9.289600e+03  9.376000e+03  0.92%  0.14s\n",
      "         0         1      --      11  9.299556e+03  9.376000e+03  0.82%  0.14s\n",
      "         0         1      --      11  9.299556e+03  9.376000e+03  0.82%  0.14s\n",
      "         0         1      --      10  9.306000e+03  9.376000e+03  0.75%  0.14s\n",
      "         0         1      --      12  9.334222e+03  9.376000e+03  0.45%  0.14s\n",
      "         0         1      --      13  9.334222e+03  9.376000e+03  0.45%  0.15s\n",
      "         0         1      --       7  9.336000e+03  9.376000e+03  0.43%  0.15s\n",
      "\n",
      "     Nodes    Active  LPit/n  IntInf     BestBound  BestSolution    Gap   Time\n",
      "         1         0    28.0       7  9.376000e+03  9.376000e+03  0.00%  0.15s\n",
      "         1         0    28.0       7  9.376000e+03  9.376000e+03  0.00%  0.15s\n",
      "\n",
      "Best solution   : 9376.000000000\n",
      "Best bound      : 9376.000000000\n",
      "Best gap        : 0.0000%\n",
      "Solve time      : 0.15\n",
      "Solve node      : 1\n",
      "MIP status      : solved\n",
      "Solution status : integer optimal (relative gap limit 0.0001)\n",
      "\n",
      "Violations      :     absolute     relative\n",
      "  bounds        :            0            0\n",
      "  rows          :            0            0\n",
      "  integrality   :            0\n"
     ]
    }
   ],
   "source": [
    "model.solve()"
   ]
  },
  {
   "cell_type": "code",
   "execution_count": null,
   "id": "e7ef63db",
   "metadata": {},
   "outputs": [],
   "source": [
    "\n"
   ]
  },
  {
   "cell_type": "code",
   "execution_count": null,
   "id": "c6142b03",
   "metadata": {},
   "outputs": [],
   "source": []
  },
  {
   "cell_type": "code",
   "execution_count": null,
   "id": "2b561441",
   "metadata": {},
   "outputs": [],
   "source": []
  },
  {
   "cell_type": "code",
   "execution_count": 20,
   "id": "a71b657f",
   "metadata": {},
   "outputs": [
    {
     "name": "stdout",
     "output_type": "stream",
     "text": [
      "Vehicle 1 route: [1]\n",
      "Vehicle 2 route: [2, 30]\n",
      "Vehicle 3 route: [3, 40]\n",
      "Vehicle 4 route: [4]\n",
      "Vehicle 5 route: [5, 20]\n",
      "Vehicle 6 route: [6, 23]\n",
      "Vehicle 7 route: [7, 26]\n",
      "Vehicle 8 route: [8]\n",
      "Vehicle 9 route: [9]\n",
      "Vehicle 10 route: [10, 34]\n",
      "Vehicle 11 route: [11, 37]\n",
      "Vehicle 12 route: [12]\n",
      "Vehicle 13 route: [13, 14]\n",
      "Vehicle 14 route: [15, 16]\n",
      "Vehicle 15 route: [17]\n",
      "Vehicle 16 route: [18]\n",
      "Vehicle 17 route: [19]\n",
      "Vehicle 18 route: [21]\n",
      "Vehicle 19 route: [22]\n",
      "Vehicle 20 route: [24]\n",
      "Vehicle 21 route: [25, 27]\n",
      "Vehicle 22 route: [28]\n",
      "Vehicle 23 route: [29]\n",
      "Vehicle 24 route: [31]\n",
      "Vehicle 25 route: [32]\n",
      "Vehicle 26 route: [33]\n",
      "Vehicle 27 route: [35, 36]\n",
      "Vehicle 28 route: [38, 39]\n"
     ]
    }
   ],
   "source": [
    "def get_vehicle_routes(w, x, z):\n",
    "    routes = []\n",
    "    for i in N:\n",
    "        if w[i].x > 0.5:  # Node i is the first node visited by a vehicle\n",
    "            route = [i]\n",
    "            current_node = i\n",
    "            while not z[current_node].x > 0.5:  # Continue until the last node is found\n",
    "                for j in N:\n",
    "                    if x[current_node, j].x > 0.5:\n",
    "                        route.append(j)\n",
    "                        current_node = j\n",
    "                        break\n",
    "            routes.append(route)\n",
    "    return routes\n",
    "\n",
    "def print_vehicle_routes(routes):\n",
    "    vehicle_num = 1\n",
    "    for route in routes:\n",
    "        print(f\"Vehicle {vehicle_num} route: {route}\")\n",
    "        vehicle_num += 1\n",
    "\n",
    "\n",
    "\n",
    "# Get and print vehicle routes\n",
    "routes = get_vehicle_routes(w, x, z)\n",
    "print_vehicle_routes(routes)"
   ]
  },
  {
   "cell_type": "code",
   "execution_count": 21,
   "id": "06dc7c67",
   "metadata": {},
   "outputs": [
    {
     "data": {
      "image/png": "[encoded data removed]",
      "text/plain": [
       "<Figure size 640x480 with 1 Axes>"
      ]
     },
     "metadata": {},
     "output_type": "display_data"
    }
   ],
   "source": [
    "\n",
    "def visualize_vehicle_routes(G, pos, routes):\n",
    "    # Draw the nodes and labels\n",
    "    nx.draw(G, pos, with_labels=True, node_color=\"skyblue\", node_size=1500, font_size=14, font_weight=\"bold\")\n",
    "    \n",
    "    # Draw edge labels with weights\n",
    "    edge_labels = {(u, v): d[\"weight\"] for u, v, d in G.edges(data=True)}\n",
    "    nx.draw_networkx_edge_labels(G, pos, edge_labels=edge_labels, font_size=12, font_weight=\"bold\")\n",
    "    \n",
    "    # Prepare a list of colors for the routes\n",
    "    colors = [\"red\", \"blue\", \"green\", \"purple\", \"orange\", \"brown\", \"cyan\", \"magenta\", \"lime\", \"gray\"]\n",
    "\n",
    "    # Draw vehicle routes\n",
    "    for index, route in enumerate(routes):\n",
    "        color = colors[index % len(colors)]  # Choose a color for the route\n",
    "        edges = [(route[i], route[i + 1]) for i in range(len(route) - 1)]\n",
    "        nx.draw_networkx_edges(G, pos, edgelist=edges, width=2.5, edge_color=color, style=\"dashed\", alpha=0.6)\n",
    "\n",
    "    plt.show()\n",
    "\n",
    "\n",
    "# Get vehicle routes and visualize them\n",
    "routes = get_vehicle_routes(w, x, z)\n",
    "pos = nx.spring_layout(graph)\n",
    "visualize_vehicle_routes(graph, pos, routes)"
   ]
  },
  {
   "cell_type": "code",
   "execution_count": 22,
   "id": "a26ba0e6",
   "metadata": {},
   "outputs": [],
   "source": [
    "#OR-Tools realization"
   ]
  },
  {
   "cell_type": "code",
   "execution_count": 23,
   "id": "b68b2e7e",
   "metadata": {},
   "outputs": [],
   "source": [
    "#distance_matix\n",
    "distance_matrix = []\n",
    "for i in range(n+1):\n",
    "    a = []\n",
    "    for j in range(n+1):\n",
    "        if(i == j):\n",
    "            a.append(0)\n",
    "        else:\n",
    "            a.append(10000)\n",
    "    distance_matrix.append(a)\n",
    "\n",
    "\n",
    "for i in range(n+1):\n",
    "    for j in range(n+1):\n",
    "        if (i, j) in graph.edges():\n",
    "            distance_matrix[i][j] = graph.edges[i,j][\"weight\"]\n",
    "            distance_matrix[j][i] = graph.edges[i,j][\"weight\"]\n"
   ]
  },
  {
   "cell_type": "code",
   "execution_count": 24,
   "id": "b3003ede",
   "metadata": {},
   "outputs": [
    {
     "name": "stdout",
     "output_type": "stream",
     "text": [
      "[0, 79, 23, 38, 66, 55, 40, 37, 70, 47, 34, 61, 78, 21, 56, 30, 42, 63, 60, 31, 22, 71, 36, 52, 74, 20, 58, 39, 66, 62, 71, 76, 80, 60, 33, 50, 44, 22, 23, 50, 54]\n",
      "{1: 79, 2: 23, 3: 38, 4: 66, 5: 55, 6: 40, 7: 37, 8: 70, 9: 47, 10: 34, 11: 61, 12: 78, 13: 21, 14: 56, 15: 30, 16: 42, 17: 63, 18: 60, 19: 31, 20: 22, 21: 71, 22: 36, 23: 52, 24: 74, 25: 20, 26: 58, 27: 39, 28: 66, 29: 62, 30: 71, 31: 76, 32: 80, 33: 60, 34: 33, 35: 50, 36: 44, 37: 22, 38: 23, 39: 50, 40: 54}\n",
      "[100, 100, 100, 100, 100, 100, 100, 100, 100, 100, 100, 100, 100, 100, 100, 100, 100, 100, 100, 100, 100, 100, 100, 100, 100, 100]\n"
     ]
    }
   ],
   "source": [
    "#demands\n",
    "demands = [0] + [D[i] for i in D]\n",
    "\n",
    "#Vehicle_capacities\n",
    "v_capacities = [C for i in range(1,V_min+1)]\n",
    "\n",
    "distance_M = []\n",
    "for i in range(0,n+1):\n",
    "    a = []\n",
    "    for j in range(0,n+1):\n",
    "        a.append(L[i][j])\n",
    "    distance_M.append(a)\n",
    "print(demands)\n",
    "print(D)\n",
    "print(v_capacities)"
   ]
  },
  {
   "cell_type": "code",
   "execution_count": 25,
   "id": "a61a2d9f",
   "metadata": {},
   "outputs": [
    {
     "name": "stdout",
     "output_type": "stream",
     "text": [
      "Objective: 9424\n",
      "Route for vehicle 0:\n",
      " 0 Load(0) ->  0 Load(0)\n",
      "Distance of the route: 0m\n",
      "Load of the route: 0\n",
      "\n",
      "Route for vehicle 1:\n",
      " 0 Load(0) ->  0 Load(0)\n",
      "Distance of the route: 0m\n",
      "Load of the route: 0\n",
      "\n",
      "Route for vehicle 2:\n",
      " 0 Load(0) ->  30 Load(71) ->  0 Load(71)\n",
      "Distance of the route: 520m\n",
      "Load of the route: 71\n",
      "\n",
      "Route for vehicle 3:\n",
      " 0 Load(0) ->  27 Load(39) ->  26 Load(97) ->  0 Load(97)\n",
      "Distance of the route: 620m\n",
      "Load of the route: 97\n",
      "\n",
      "Route for vehicle 4:\n",
      " 0 Load(0) ->  29 Load(62) ->  0 Load(62)\n",
      "Distance of the route: 490m\n",
      "Load of the route: 62\n",
      "\n",
      "Route for vehicle 5:\n",
      " 0 Load(0) ->  32 Load(80) ->  0 Load(80)\n",
      "Distance of the route: 448m\n",
      "Load of the route: 80\n",
      "\n",
      "Route for vehicle 6:\n",
      " 0 Load(0) ->  21 Load(71) ->  0 Load(71)\n",
      "Distance of the route: 426m\n",
      "Load of the route: 71\n",
      "\n",
      "Route for vehicle 7:\n",
      " 0 Load(0) ->  28 Load(66) ->  0 Load(66)\n",
      "Distance of the route: 424m\n",
      "Load of the route: 66\n",
      "\n",
      "Route for vehicle 8:\n",
      " 0 Load(0) ->  22 Load(36) ->  23 Load(88) ->  0 Load(88)\n",
      "Distance of the route: 394m\n",
      "Load of the route: 88\n",
      "\n",
      "Route for vehicle 9:\n",
      " 0 Load(0) ->  24 Load(74) ->  0 Load(74)\n",
      "Distance of the route: 384m\n",
      "Load of the route: 74\n",
      "\n",
      "Route for vehicle 10:\n",
      " 0 Load(0) ->  31 Load(76) ->  0 Load(76)\n",
      "Distance of the route: 384m\n",
      "Load of the route: 76\n",
      "\n",
      "Route for vehicle 11:\n",
      " 0 Load(0) ->  7 Load(37) ->  33 Load(97) ->  0 Load(97)\n",
      "Distance of the route: 426m\n",
      "Load of the route: 97\n",
      "\n",
      "Route for vehicle 12:\n",
      " 0 Load(0) ->  37 Load(22) ->  38 Load(45) ->  35 Load(95) ->  0 Load(95)\n",
      "Distance of the route: 644m\n",
      "Load of the route: 95\n",
      "\n",
      "Route for vehicle 13:\n",
      " 0 Load(0) ->  13 Load(21) ->  14 Load(77) ->  0 Load(77)\n",
      "Distance of the route: 440m\n",
      "Load of the route: 77\n",
      "\n",
      "Route for vehicle 14:\n",
      " 0 Load(0) ->  39 Load(50) ->  36 Load(94) ->  0 Load(94)\n",
      "Distance of the route: 438m\n",
      "Load of the route: 94\n",
      "\n",
      "Route for vehicle 15:\n",
      " 0 Load(0) ->  16 Load(42) ->  40 Load(96) ->  0 Load(96)\n",
      "Distance of the route: 518m\n",
      "Load of the route: 96\n",
      "\n",
      "Route for vehicle 16:\n",
      " 0 Load(0) ->  17 Load(63) ->  0 Load(63)\n",
      "Distance of the route: 240m\n",
      "Load of the route: 63\n",
      "\n",
      "Route for vehicle 17:\n",
      " 0 Load(0) ->  8 Load(70) ->  0 Load(70)\n",
      "Distance of the route: 238m\n",
      "Load of the route: 70\n",
      "\n",
      "Route for vehicle 18:\n",
      " 0 Load(0) ->  18 Load(60) ->  6 Load(100) ->  0 Load(100)\n",
      "Distance of the route: 482m\n",
      "Load of the route: 100\n",
      "\n",
      "Route for vehicle 19:\n",
      " 0 Load(0) ->  20 Load(22) ->  9 Load(69) ->  25 Load(89) ->  0 Load(89)\n",
      "Distance of the route: 684m\n",
      "Load of the route: 89\n",
      "\n",
      "Route for vehicle 20:\n",
      " 0 Load(0) ->  12 Load(78) ->  0 Load(78)\n",
      "Distance of the route: 160m\n",
      "Load of the route: 78\n",
      "\n",
      "Route for vehicle 21:\n",
      " 0 Load(0) ->  1 Load(79) ->  0 Load(79)\n",
      "Distance of the route: 86m\n",
      "Load of the route: 79\n",
      "\n",
      "Route for vehicle 22:\n",
      " 0 Load(0) ->  2 Load(23) ->  10 Load(57) ->  34 Load(90) ->  0 Load(90)\n",
      "Distance of the route: 508m\n",
      "Load of the route: 90\n",
      "\n",
      "Route for vehicle 23:\n",
      " 0 Load(0) ->  4 Load(66) ->  15 Load(96) ->  0 Load(96)\n",
      "Distance of the route: 206m\n",
      "Load of the route: 96\n",
      "\n",
      "Route for vehicle 24:\n",
      " 0 Load(0) ->  5 Load(55) ->  19 Load(86) ->  0 Load(86)\n",
      "Distance of the route: 152m\n",
      "Load of the route: 86\n",
      "\n",
      "Route for vehicle 25:\n",
      " 0 Load(0) ->  3 Load(38) ->  11 Load(99) ->  0 Load(99)\n",
      "Distance of the route: 112m\n",
      "Load of the route: 99\n",
      "\n",
      "Total distance of all routes: 9424m\n",
      "Total load of all routes: 1994\n"
     ]
    }
   ],
   "source": [
    "\n",
    "from ortools.constraint_solver import routing_enums_pb2\n",
    "from ortools.constraint_solver import pywrapcp\n",
    "\n",
    "\n",
    "def create_data_model():\n",
    "    \"\"\"Stores the data for the problem.\"\"\"\n",
    "    data = {}\n",
    "    data['distance_matrix'] =  distance_M\n",
    "    data['demands'] = demands\n",
    "    data['vehicle_capacities'] = v_capacities\n",
    "    data['num_vehicles'] = V_min\n",
    "    data['depot'] = 0\n",
    "    return data\n",
    "\n",
    "\n",
    "def print_solution(data, manager, routing, solution):\n",
    "    \"\"\"Prints solution on console.\"\"\"\n",
    "    print(f'Objective: {solution.ObjectiveValue()}')\n",
    "    total_distance = 0\n",
    "    total_load = 0\n",
    "    for vehicle_id in range(data['num_vehicles']):\n",
    "        index = routing.Start(vehicle_id)\n",
    "        plan_output = 'Route for vehicle {}:\\n'.format(vehicle_id)\n",
    "        route_distance = 0\n",
    "        route_load = 0\n",
    "        while not routing.IsEnd(index):\n",
    "            node_index = manager.IndexToNode(index)\n",
    "            route_load += data['demands'][node_index]\n",
    "            plan_output += ' {0} Load({1}) -> '.format(node_index, route_load)\n",
    "            previous_index = index\n",
    "            index = solution.Value(routing.NextVar(index))\n",
    "            route_distance += routing.GetArcCostForVehicle(\n",
    "                previous_index, index, vehicle_id)\n",
    "        plan_output += ' {0} Load({1})\\n'.format(manager.IndexToNode(index),\n",
    "                                                 route_load)\n",
    "        plan_output += 'Distance of the route: {}m\\n'.format(route_distance)\n",
    "        plan_output += 'Load of the route: {}\\n'.format(route_load)\n",
    "        print(plan_output)\n",
    "        total_distance += route_distance\n",
    "        total_load += route_load\n",
    "    print('Total distance of all routes: {}m'.format(total_distance))\n",
    "    print('Total load of all routes: {}'.format(total_load))\n",
    "\n",
    "\n",
    "def main():\n",
    "    \"\"\"Solve the CVRP problem.\"\"\"\n",
    "    # Instantiate the data problem.\n",
    "    data = create_data_model()\n",
    "\n",
    "    # Create the routing index manager.\n",
    "    manager = pywrapcp.RoutingIndexManager(len(data['distance_matrix']),\n",
    "                                           data['num_vehicles'], data['depot'])\n",
    "\n",
    "    # Create Routing Model.\n",
    "    routing = pywrapcp.RoutingModel(manager)\n",
    "\n",
    "\n",
    "    # Create and register a transit callback.\n",
    "    def distance_callback(from_index, to_index):\n",
    "        \"\"\"Returns the distance between the two nodes.\"\"\"\n",
    "        # Convert from routing variable Index to distance matrix NodeIndex.\n",
    "        from_node = manager.IndexToNode(from_index)\n",
    "        to_node = manager.IndexToNode(to_index)\n",
    "        return data['distance_matrix'][from_node][to_node]\n",
    "\n",
    "    transit_callback_index = routing.RegisterTransitCallback(distance_callback)\n",
    "\n",
    "    # Define cost of each arc.\n",
    "    routing.SetArcCostEvaluatorOfAllVehicles(transit_callback_index)\n",
    "\n",
    "\n",
    "    # Add Capacity constraint.\n",
    "    def demand_callback(from_index):\n",
    "        \"\"\"Returns the demand of the node.\"\"\"\n",
    "        # Convert from routing variable Index to demands NodeIndex.\n",
    "        from_node = manager.IndexToNode(from_index)\n",
    "        return data['demands'][from_node]\n",
    "\n",
    "    demand_callback_index = routing.RegisterUnaryTransitCallback(\n",
    "        demand_callback)\n",
    "    routing.AddDimensionWithVehicleCapacity(\n",
    "        demand_callback_index,\n",
    "        0,  # null capacity slack\n",
    "        data['vehicle_capacities'],  # vehicle maximum capacities\n",
    "        True,  # start cumul to zero\n",
    "        'Capacity')\n",
    "\n",
    "    # Setting first solution heuristic.\n",
    "    search_parameters = pywrapcp.DefaultRoutingSearchParameters()\n",
    "    search_parameters.first_solution_strategy = (\n",
    "        routing_enums_pb2.FirstSolutionStrategy.PATH_CHEAPEST_ARC)\n",
    "    search_parameters.local_search_metaheuristic = (\n",
    "        routing_enums_pb2.LocalSearchMetaheuristic.GUIDED_LOCAL_SEARCH)\n",
    "    search_parameters.time_limit.FromSeconds(1)\n",
    "    \n",
    "\n",
    "    # Solve the problem.\n",
    "    solution = routing.SolveWithParameters(search_parameters)\n",
    "\n",
    "    # Print solution on console.\n",
    "    if solution:\n",
    "        print_solution(data, manager, routing, solution)\n",
    "        \n",
    "        \n",
    "    \n",
    "    \n",
    "\n",
    "\n",
    "if __name__ == '__main__':\n",
    "    main()\n",
    "  \n",
    "\n"
   ]
  },
  {
   "cell_type": "markdown",
   "id": "fbb55ecc",
   "metadata": {},
   "source": [
    "# "
   ]
  }
 ],
 "metadata": {
  "kernelspec": {
   "display_name": "Python 3 (ipykernel)",
   "language": "python",
   "name": "python3"
  },
  "language_info": {
   "codemirror_mode": {
    "name": "ipython",
    "version": 3
   },
   "file_extension": ".py",
   "mimetype": "text/x-python",
   "name": "python",
   "nbconvert_exporter": "python",
   "pygments_lexer": "ipython3",
   "version": "3.10.9"
  }
 },
 "nbformat": 4,
 "nbformat_minor": 5
}
